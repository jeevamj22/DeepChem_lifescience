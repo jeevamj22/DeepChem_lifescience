{
  "cells": [
    {
      "cell_type": "code",
      "execution_count": 1,
      "id": "78345505",
      "metadata": {
        "colab": {
          "base_uri": "https://localhost:8080/"
        },
        "id": "78345505",
        "outputId": "86f0acb5-87d2-4e4d-d00d-6e186e091f3f"
      },
      "outputs": [
        {
          "output_type": "stream",
          "name": "stdout",
          "text": [
            "Looking in indexes: https://pypi.org/simple, https://us-python.pkg.dev/colab-wheels/public/simple/\n",
            "Collecting deepchem\n",
            "  Downloading deepchem-2.7.1-py3-none-any.whl (693 kB)\n",
            "\u001b[2K     \u001b[90m━━━━━━━━━━━━━━━━━━━━━━━━━━━━━━━━━━━━━━\u001b[0m \u001b[32m693.2/693.2 kB\u001b[0m \u001b[31m10.4 MB/s\u001b[0m eta \u001b[36m0:00:00\u001b[0m\n",
            "\u001b[?25hCollecting scipy<1.9\n",
            "  Downloading scipy-1.8.1-cp310-cp310-manylinux_2_17_x86_64.manylinux2014_x86_64.whl (42.2 MB)\n",
            "\u001b[2K     \u001b[90m━━━━━━━━━━━━━━━━━━━━━━━━━━━━━━━━━━━━━━━━\u001b[0m \u001b[32m42.2/42.2 MB\u001b[0m \u001b[31m20.7 MB/s\u001b[0m eta \u001b[36m0:00:00\u001b[0m\n",
            "\u001b[?25hCollecting rdkit\n",
            "  Downloading rdkit-2023.3.1-cp310-cp310-manylinux_2_17_x86_64.manylinux2014_x86_64.whl (29.7 MB)\n",
            "\u001b[2K     \u001b[90m━━━━━━━━━━━━━━━━━━━━━━━━━━━━━━━━━━━━━━━━\u001b[0m \u001b[32m29.7/29.7 MB\u001b[0m \u001b[31m26.0 MB/s\u001b[0m eta \u001b[36m0:00:00\u001b[0m\n",
            "\u001b[?25hRequirement already satisfied: pandas in /usr/local/lib/python3.10/dist-packages (from deepchem) (1.5.3)\n",
            "Requirement already satisfied: scikit-learn in /usr/local/lib/python3.10/dist-packages (from deepchem) (1.2.2)\n",
            "Requirement already satisfied: numpy>=1.21 in /usr/local/lib/python3.10/dist-packages (from deepchem) (1.22.4)\n",
            "Requirement already satisfied: joblib in /usr/local/lib/python3.10/dist-packages (from deepchem) (1.2.0)\n",
            "Requirement already satisfied: python-dateutil>=2.8.1 in /usr/local/lib/python3.10/dist-packages (from pandas->deepchem) (2.8.2)\n",
            "Requirement already satisfied: pytz>=2020.1 in /usr/local/lib/python3.10/dist-packages (from pandas->deepchem) (2022.7.1)\n",
            "Requirement already satisfied: Pillow in /usr/local/lib/python3.10/dist-packages (from rdkit->deepchem) (8.4.0)\n",
            "Requirement already satisfied: threadpoolctl>=2.0.0 in /usr/local/lib/python3.10/dist-packages (from scikit-learn->deepchem) (3.1.0)\n",
            "Requirement already satisfied: six>=1.5 in /usr/local/lib/python3.10/dist-packages (from python-dateutil>=2.8.1->pandas->deepchem) (1.16.0)\n",
            "Installing collected packages: scipy, rdkit, deepchem\n",
            "  Attempting uninstall: scipy\n",
            "    Found existing installation: scipy 1.10.1\n",
            "    Uninstalling scipy-1.10.1:\n",
            "      Successfully uninstalled scipy-1.10.1\n",
            "Successfully installed deepchem-2.7.1 rdkit-2023.3.1 scipy-1.8.1\n"
          ]
        }
      ],
      "source": [
        "pip install deepchem"
      ]
    },
    {
      "cell_type": "code",
      "execution_count": 2,
      "id": "67e9ff56",
      "metadata": {
        "colab": {
          "base_uri": "https://localhost:8080/"
        },
        "id": "67e9ff56",
        "outputId": "d2d1edff-b615-4a71-c5e3-89401e1ccc9b"
      },
      "outputs": [
        {
          "output_type": "stream",
          "name": "stderr",
          "text": [
            "WARNING:deepchem.models.torch_models:Skipped loading modules with pytorch-geometric dependency, missing a dependency. No module named 'torch_geometric'\n",
            "WARNING:deepchem.models:Skipped loading modules with pytorch-geometric dependency, missing a dependency. cannot import name 'DMPNN' from 'deepchem.models.torch_models' (/usr/local/lib/python3.10/dist-packages/deepchem/models/torch_models/__init__.py)\n",
            "WARNING:deepchem.models:Skipped loading modules with pytorch-lightning dependency, missing a dependency. No module named 'pytorch_lightning'\n",
            "WARNING:deepchem.models:Skipped loading some Jax models, missing a dependency. No module named 'haiku'\n"
          ]
        }
      ],
      "source": [
        "import deepchem as dc"
      ]
    },
    {
      "cell_type": "code",
      "execution_count": 3,
      "id": "753fe372",
      "metadata": {
        "id": "753fe372"
      },
      "outputs": [],
      "source": [
        "import numpy as np"
      ]
    },
    {
      "cell_type": "code",
      "execution_count": 4,
      "id": "ba4ad57b",
      "metadata": {
        "id": "ba4ad57b"
      },
      "outputs": [],
      "source": [
        "x=np.random.random((4,5))\n",
        "y=np.random.random((4,1))"
      ]
    },
    {
      "cell_type": "code",
      "execution_count": 5,
      "id": "a6ac8fc4",
      "metadata": {
        "colab": {
          "base_uri": "https://localhost:8080/"
        },
        "id": "a6ac8fc4",
        "outputId": "71c743a6-f103-48e5-a879-b54fb1a72b90"
      },
      "outputs": [
        {
          "output_type": "execute_result",
          "data": {
            "text/plain": [
              "array([[0.46383045, 0.43321227, 0.0450624 , 0.42446206, 0.42648137],\n",
              "       [0.31766884, 0.76981543, 0.78817547, 0.36791064, 0.1564186 ],\n",
              "       [0.05005171, 0.02459051, 0.86916343, 0.61403257, 0.96329703],\n",
              "       [0.16500708, 0.34513716, 0.72349507, 0.67770176, 0.09249356]])"
            ]
          },
          "metadata": {},
          "execution_count": 5
        }
      ],
      "source": [
        "x"
      ]
    },
    {
      "cell_type": "code",
      "execution_count": 6,
      "id": "30ef7782",
      "metadata": {
        "colab": {
          "base_uri": "https://localhost:8080/"
        },
        "id": "30ef7782",
        "outputId": "73c5ea98-d67e-4006-fd8e-9d9d6b7644da"
      },
      "outputs": [
        {
          "output_type": "execute_result",
          "data": {
            "text/plain": [
              "array([[0.02136602],\n",
              "       [0.36784424],\n",
              "       [0.58244275],\n",
              "       [0.6666355 ]])"
            ]
          },
          "metadata": {},
          "execution_count": 6
        }
      ],
      "source": [
        "y"
      ]
    },
    {
      "cell_type": "code",
      "execution_count": 7,
      "id": "64d4e159",
      "metadata": {
        "id": "64d4e159"
      },
      "outputs": [],
      "source": [
        "dataset = dc.data.NumpyDataset(x, y)"
      ]
    },
    {
      "cell_type": "code",
      "execution_count": 8,
      "id": "f230b132",
      "metadata": {
        "colab": {
          "base_uri": "https://localhost:8080/"
        },
        "id": "f230b132",
        "outputId": "644df244-0dff-4a05-e461-85a5be682d48"
      },
      "outputs": [
        {
          "output_type": "stream",
          "name": "stdout",
          "text": [
            "[[0.46383045 0.43321227 0.0450624  0.42446206 0.42648137]\n",
            " [0.31766884 0.76981543 0.78817547 0.36791064 0.1564186 ]\n",
            " [0.05005171 0.02459051 0.86916343 0.61403257 0.96329703]\n",
            " [0.16500708 0.34513716 0.72349507 0.67770176 0.09249356]]\n"
          ]
        }
      ],
      "source": [
        "print(dataset.X)"
      ]
    },
    {
      "cell_type": "code",
      "execution_count": 9,
      "id": "7b093d08",
      "metadata": {
        "colab": {
          "base_uri": "https://localhost:8080/"
        },
        "id": "7b093d08",
        "outputId": "c87e90fc-2458-481b-e577-2c10a63a24ee"
      },
      "outputs": [
        {
          "output_type": "stream",
          "name": "stdout",
          "text": [
            "[[0.02136602]\n",
            " [0.36784424]\n",
            " [0.58244275]\n",
            " [0.6666355 ]]\n"
          ]
        }
      ],
      "source": [
        "print(dataset.y)"
      ]
    },
    {
      "cell_type": "code",
      "execution_count": 10,
      "id": "c588b9e4",
      "metadata": {
        "colab": {
          "base_uri": "https://localhost:8080/"
        },
        "id": "c588b9e4",
        "outputId": "ee1e81e0-69f4-4b0c-a63f-a7e54b5b1075"
      },
      "outputs": [
        {
          "output_type": "execute_result",
          "data": {
            "text/plain": [
              "True"
            ]
          },
          "metadata": {},
          "execution_count": 10
        }
      ],
      "source": [
        "np.array_equal(x,dataset.X)\n",
        "np.array_equal(y,dataset.y)"
      ]
    },
    {
      "cell_type": "code",
      "execution_count": 11,
      "id": "c995a5e2",
      "metadata": {
        "colab": {
          "base_uri": "https://localhost:8080/"
        },
        "id": "c995a5e2",
        "outputId": "14a63dbc-1d42-4960-b882-a1c616a0b729"
      },
      "outputs": [
        {
          "output_type": "stream",
          "name": "stderr",
          "text": [
            "[16:52:54] WARNING: not removing hydrogen atom without neighbors\n",
            "[16:53:05] WARNING: not removing hydrogen atom without neighbors\n"
          ]
        }
      ],
      "source": [
        "#dc.molnet(molecularNet contains preprocessed datasetsetd)\n",
        "#dc.molnet.load_tox21(load and process)\n",
        "tox21_tasks,tox21_datasets,transformer=dc.molnet.load_tox21()"
      ]
    },
    {
      "cell_type": "code",
      "execution_count": 12,
      "id": "fb8b9051",
      "metadata": {
        "colab": {
          "base_uri": "https://localhost:8080/"
        },
        "id": "fb8b9051",
        "outputId": "e3c2c5d6-c11a-40aa-9bdb-5c2ca3b9789d"
      },
      "outputs": [
        {
          "output_type": "execute_result",
          "data": {
            "text/plain": [
              "['NR-AR',\n",
              " 'NR-AR-LBD',\n",
              " 'NR-AhR',\n",
              " 'NR-Aromatase',\n",
              " 'NR-ER',\n",
              " 'NR-ER-LBD',\n",
              " 'NR-PPAR-gamma',\n",
              " 'SR-ARE',\n",
              " 'SR-ATAD5',\n",
              " 'SR-HSE',\n",
              " 'SR-MMP',\n",
              " 'SR-p53']"
            ]
          },
          "metadata": {},
          "execution_count": 12
        }
      ],
      "source": [
        "tox21_tasks"
      ]
    },
    {
      "cell_type": "code",
      "execution_count": 13,
      "id": "7e491547",
      "metadata": {
        "colab": {
          "base_uri": "https://localhost:8080/"
        },
        "id": "7e491547",
        "outputId": "fed5a5b3-7b55-49be-c3f8-5dc9b0d25d7d"
      },
      "outputs": [
        {
          "output_type": "execute_result",
          "data": {
            "text/plain": [
              "12"
            ]
          },
          "metadata": {},
          "execution_count": 13
        }
      ],
      "source": [
        "len(tox21_tasks)"
      ]
    },
    {
      "cell_type": "code",
      "execution_count": 14,
      "id": "6e32eacf",
      "metadata": {
        "colab": {
          "base_uri": "https://localhost:8080/"
        },
        "id": "6e32eacf",
        "outputId": "45c60fe9-be28-4ab6-a7b5-e3a3bb9673b9"
      },
      "outputs": [
        {
          "output_type": "execute_result",
          "data": {
            "text/plain": [
              "(<DiskDataset X.shape: (6264, 1024), y.shape: (6264, 12), w.shape: (6264, 12), task_names: ['NR-AR' 'NR-AR-LBD' 'NR-AhR' ... 'SR-HSE' 'SR-MMP' 'SR-p53']>,\n",
              " <DiskDataset X.shape: (783, 1024), y.shape: (783, 12), w.shape: (783, 12), ids: ['N#C[C@@H]1CC(F)(F)CN1C(=O)CNC1CC2CCC(C1)N2c1ncccn1'\n",
              "  'CN(C)C(=O)NC1(c2ccccc2)CCN(CCC[C@@]2(c3ccc(Cl)c(Cl)c3)CCCN(C(=O)c3ccccc3)C2)CC1'\n",
              "  'CSc1nnc(C(C)(C)C)c(=O)n1N' ...\n",
              "  'O=C(O[C@H]1CN2CCC1CC2)N1CCc2ccccc2[C@@H]1c1ccccc1'\n",
              "  'C#C[C@]1(O)CC[C@H]2[C@@H]3CCC4=CC(=O)CC[C@@H]4[C@H]3C(=C)C[C@@]21CC'\n",
              "  'NC(=O)C(c1ccccc1)(c1ccccc1)[C@@H]1CCN(CCc2ccc3c(c2)CCO3)C1'], task_names: ['NR-AR' 'NR-AR-LBD' 'NR-AhR' ... 'SR-HSE' 'SR-MMP' 'SR-p53']>,\n",
              " <DiskDataset X.shape: (784, 1024), y.shape: (784, 12), w.shape: (784, 12), ids: ['CC1(C)S[C@@H]2[C@H](NC(=O)Cc3ccccc3)C(=O)N2[C@H]1C(=O)O.CC1(C)S[C@@H]2[C@H](NC(=O)Cc3ccccc3)C(=O)N2[C@H]1C(=O)O.c1ccc(CNCCNCc2ccccc2)cc1'\n",
              "  'CC(C)(c1ccc(Oc2ccc3c(c2)C(=O)OC3=O)cc1)c1ccc(Oc2ccc3c(c2)C(=O)OC3=O)cc1'\n",
              "  'Cc1cc(C(C)(C)C)c(O)c(C)c1Cn1c(=O)n(Cc2c(C)cc(C(C)(C)C)c(O)c2C)c(=O)n(Cc2c(C)cc(C(C)(C)C)c(O)c2C)c1=O'\n",
              "  ... 'CN[C@@H]1C[C@@H](c2ccc(Cl)c(Cl)c2)c2ccccc21'\n",
              "  'Cl/C=C\\\\C[N+]12CN3CN(CN(C3)C1)C2'\n",
              "  'NC(=O)c1ccc[n+]([C@@H]2O[C@H](COP(=O)([O-])OP(=O)(O)OC[C@H]3O[C@@H](n4cnc5c(N)ncnc54)[C@H](O)[C@@H]3O)[C@@H](O)[C@H]2O)c1'], task_names: ['NR-AR' 'NR-AR-LBD' 'NR-AhR' ... 'SR-HSE' 'SR-MMP' 'SR-p53']>)"
            ]
          },
          "metadata": {},
          "execution_count": 14
        }
      ],
      "source": [
        "tox21_datasets"
      ]
    },
    {
      "cell_type": "code",
      "execution_count": 15,
      "id": "d4c85804",
      "metadata": {
        "id": "d4c85804"
      },
      "outputs": [],
      "source": [
        "train_dataset,valid_dataset,test_dataset=tox21_datasets"
      ]
    },
    {
      "cell_type": "code",
      "execution_count": 16,
      "id": "2b031eae",
      "metadata": {
        "colab": {
          "base_uri": "https://localhost:8080/"
        },
        "id": "2b031eae",
        "outputId": "375e3ae1-bfec-4199-9de3-806117fa362c"
      },
      "outputs": [
        {
          "output_type": "execute_result",
          "data": {
            "text/plain": [
              "(6264, 1024)"
            ]
          },
          "metadata": {},
          "execution_count": 16
        }
      ],
      "source": [
        "train_dataset.X.shape"
      ]
    },
    {
      "cell_type": "code",
      "execution_count": 17,
      "id": "1bd9f186",
      "metadata": {
        "colab": {
          "base_uri": "https://localhost:8080/"
        },
        "id": "1bd9f186",
        "outputId": "317946fb-4aeb-46b4-ba38-fdb459a8e8ce"
      },
      "outputs": [
        {
          "output_type": "execute_result",
          "data": {
            "text/plain": [
              "(783, 1024)"
            ]
          },
          "metadata": {},
          "execution_count": 17
        }
      ],
      "source": [
        "valid_dataset.X.shape"
      ]
    },
    {
      "cell_type": "code",
      "execution_count": 18,
      "id": "35cac5be",
      "metadata": {
        "colab": {
          "base_uri": "https://localhost:8080/"
        },
        "id": "35cac5be",
        "outputId": "3ba4bfdd-4c31-455f-ea4d-69d056852689"
      },
      "outputs": [
        {
          "output_type": "execute_result",
          "data": {
            "text/plain": [
              "(784, 1024)"
            ]
          },
          "metadata": {},
          "execution_count": 18
        }
      ],
      "source": [
        "test_dataset.X.shape"
      ]
    },
    {
      "cell_type": "code",
      "execution_count": 19,
      "id": "9d37dbcf",
      "metadata": {
        "colab": {
          "base_uri": "https://localhost:8080/"
        },
        "id": "9d37dbcf",
        "outputId": "1e510a05-a410-4cbd-82b2-1615569506d8"
      },
      "outputs": [
        {
          "output_type": "execute_result",
          "data": {
            "text/plain": [
              "(6264, 12)"
            ]
          },
          "metadata": {},
          "execution_count": 19
        }
      ],
      "source": [
        "np.shape(train_dataset.y)"
      ]
    },
    {
      "cell_type": "code",
      "execution_count": 20,
      "id": "b0c63f8e",
      "metadata": {
        "colab": {
          "base_uri": "https://localhost:8080/"
        },
        "id": "b0c63f8e",
        "outputId": "833a8b69-5eaa-4c0b-eb3d-b53d309ca453"
      },
      "outputs": [
        {
          "output_type": "execute_result",
          "data": {
            "text/plain": [
              "(783, 12)"
            ]
          },
          "metadata": {},
          "execution_count": 20
        }
      ],
      "source": [
        "np.shape(valid_dataset.y)"
      ]
    },
    {
      "cell_type": "code",
      "execution_count": 21,
      "id": "e500ba80",
      "metadata": {
        "colab": {
          "base_uri": "https://localhost:8080/"
        },
        "id": "e500ba80",
        "outputId": "5e49d46a-cf7c-4ce7-9bca-7d4adee1120c"
      },
      "outputs": [
        {
          "output_type": "execute_result",
          "data": {
            "text/plain": [
              "(784, 12)"
            ]
          },
          "metadata": {},
          "execution_count": 21
        }
      ],
      "source": [
        "np.shape(test_dataset.y)"
      ]
    },
    {
      "cell_type": "code",
      "execution_count": 22,
      "id": "ebdaecdb",
      "metadata": {
        "id": "ebdaecdb"
      },
      "outputs": [],
      "source": [
        "#multitaskclassifier\n",
        "model=dc.models.MultitaskClassifier(n_tasks=12,n_features=1024,layer_sizes=[1000])"
      ]
    },
    {
      "cell_type": "code",
      "execution_count": 23,
      "id": "06e8aad5",
      "metadata": {
        "colab": {
          "base_uri": "https://localhost:8080/"
        },
        "id": "06e8aad5",
        "outputId": "025822b5-25c9-4f0e-d1d1-72ffa7b7b9f9"
      },
      "outputs": [
        {
          "output_type": "execute_result",
          "data": {
            "text/plain": [
              "0.5116795857747396"
            ]
          },
          "metadata": {},
          "execution_count": 23
        }
      ],
      "source": [
        "#train the dataset\n",
        "model.fit(train_dataset,nb_epoch=10)"
      ]
    },
    {
      "cell_type": "code",
      "execution_count": 24,
      "id": "f291472a",
      "metadata": {
        "id": "f291472a"
      },
      "outputs": [],
      "source": [
        "metric = dc.metrics.Metric(dc.metrics.roc_auc_score, np.mean)"
      ]
    },
    {
      "cell_type": "code",
      "source": [
        "train_scores = model.evaluate(train_dataset, [metric], transformer)\n",
        "test_scores = model.evaluate(test_dataset, [metric], transformer)\n"
      ],
      "metadata": {
        "id": "Kl79fS_kSKLM"
      },
      "id": "Kl79fS_kSKLM",
      "execution_count": 26,
      "outputs": []
    },
    {
      "cell_type": "code",
      "source": [
        "print(train_scores)\n",
        "print(test_scores)"
      ],
      "metadata": {
        "colab": {
          "base_uri": "https://localhost:8080/"
        },
        "id": "A4KzS5SySjYi",
        "outputId": "fd2fde96-8e83-4849-cc38-9086ddba6151"
      },
      "id": "A4KzS5SySjYi",
      "execution_count": 27,
      "outputs": [
        {
          "output_type": "stream",
          "name": "stdout",
          "text": [
            "{'mean-roc_auc_score': 0.9587564237571177}\n",
            "{'mean-roc_auc_score': 0.6858837975222478}\n"
          ]
        }
      ]
    },
    {
      "cell_type": "code",
      "source": [],
      "metadata": {
        "id": "HTikOwZhSvVk"
      },
      "id": "HTikOwZhSvVk",
      "execution_count": null,
      "outputs": []
    }
  ],
  "metadata": {
    "kernelspec": {
      "display_name": "Python 3 (ipykernel)",
      "language": "python",
      "name": "python3"
    },
    "language_info": {
      "codemirror_mode": {
        "name": "ipython",
        "version": 3
      },
      "file_extension": ".py",
      "mimetype": "text/x-python",
      "name": "python",
      "nbconvert_exporter": "python",
      "pygments_lexer": "ipython3",
      "version": "3.10.9"
    },
    "colab": {
      "provenance": [],
      "gpuType": "T4"
    },
    "accelerator": "GPU",
    "gpuClass": "standard"
  },
  "nbformat": 4,
  "nbformat_minor": 5
}